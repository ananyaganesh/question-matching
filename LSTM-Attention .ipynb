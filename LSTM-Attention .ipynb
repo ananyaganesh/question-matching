{
 "cells": [
  {
   "cell_type": "code",
   "execution_count": 20,
   "metadata": {},
   "outputs": [],
   "source": [
    "import numpy as np\n",
    "import pandas as pd\n",
    "\n",
    "import keras\n",
    "from keras.utils.data_utils import get_file\n",
    "from keras.layers import Dense, Input, LSTM,Flatten,Reshape, Embedding, Dropout, Activation,GlobalAveragePooling1D,Lambda,Bidirectional\n",
    "from keras.models import Model\n",
    "from keras.layers.normalization import BatchNormalization\n",
    "from keras.callbacks import EarlyStopping\n",
    "from keras.optimizers import Adam, RMSprop\n",
    "from keras import backend as K\n",
    "from keras.layers.embeddings import Embedding"
   ]
  },
  {
   "cell_type": "markdown",
   "metadata": {},
   "source": [
    "# Load Data"
   ]
  },
  {
   "cell_type": "code",
   "execution_count": 7,
   "metadata": {},
   "outputs": [],
   "source": [
    "q1_data = np.load(open('data/processed/q1_processed.npy', 'rb'))\n",
    "q2_data = np.load(open('data/processed/q2_processed.npy', 'rb'))\n",
    "\n",
    "labels = np.load(open('data/processed/label_processed.npy', 'rb'))\n",
    "embedding_matrix = np.load(open('data/processed/glove_word_embedding_matrix.npy', 'rb'))"
   ]
  },
  {
   "cell_type": "code",
   "execution_count": 8,
   "metadata": {},
   "outputs": [
    {
     "name": "stdout",
     "output_type": "stream",
     "text": [
      "Q1_train shape (303216, 30)\n",
      "Q2_train shape (303216, 30)\n",
      "y_train shape (303216,)\n",
      "Q1_val shape (101072, 30)\n",
      "Q2_val shape (101072, 30)\n",
      "y_val shape (101072,)\n"
     ]
    }
   ],
   "source": [
    "from sklearn.cross_validation import train_test_split\n",
    "\n",
    "X = np.stack((q1_data, q2_data), axis=1)\n",
    "target = labels\n",
    "\n",
    "X_train, X_val, y_train, y_val = train_test_split(X, target, test_size=0.25, random_state=126, stratify=target)\n",
    "Q1_train = X_train[:,0]\n",
    "Q2_train = X_train[:,1]\n",
    "Q1_val = X_val[:,0]\n",
    "Q2_val = X_val[:,1]\n",
    "\n",
    "print 'Q1_train shape {}'.format(Q1_train.shape)\n",
    "print 'Q2_train shape {}'.format(Q2_train.shape)\n",
    "print 'y_train shape {}'.format(y_train.shape)\n",
    "\n",
    "print 'Q1_val shape {}'.format(Q1_val.shape)\n",
    "print 'Q2_val shape {}'.format(Q2_val.shape)\n",
    "print 'y_val shape {}'.format(y_val.shape)\n",
    "\n"
   ]
  },
  {
   "cell_type": "code",
   "execution_count": 24,
   "metadata": {},
   "outputs": [],
   "source": [
    "EMBED_DIM = 300\n",
    "HIDDEN_DIM = 50\n",
    "BATCH_SIZE = 256\n",
    "NBR_EPOCHS = 10\n",
    "seq_maxlen = 30\n",
    "\n",
    "m,n = embedding_matrix.shape\n"
   ]
  },
  {
   "cell_type": "code",
   "execution_count": 28,
   "metadata": {},
   "outputs": [
    {
     "name": "stdout",
     "output_type": "stream",
     "text": [
      "_________________________________________________________________\n",
      "Layer (type)                 Output Shape              Param #   \n",
      "=================================================================\n",
      "merge_19 (Merge)             (None, 30, 50)            0         \n",
      "_________________________________________________________________\n",
      "flatten_11 (Flatten)         (None, 1500)              0         \n",
      "_________________________________________________________________\n",
      "dense_15 (Dense)             (None, 1)                 1501      \n",
      "=================================================================\n",
      "Total params: 55,218,601\n",
      "Trainable params: 3,893,401\n",
      "Non-trainable params: 51,325,200\n",
      "_________________________________________________________________\n"
     ]
    },
    {
     "name": "stderr",
     "output_type": "stream",
     "text": [
      "/Users/pooya/anaconda/lib/python2.7/site-packages/ipykernel_launcher.py:17: UserWarning: The `Merge` layer is deprecated and will be removed after 08/2017. Use instead layers from `keras.layers.merge`, e.g. `add`, `concatenate`, etc.\n",
      "/Users/pooya/anaconda/lib/python2.7/site-packages/ipykernel_launcher.py:23: UserWarning: The `Merge` layer is deprecated and will be removed after 08/2017. Use instead layers from `keras.layers.merge`, e.g. `add`, `concatenate`, etc.\n"
     ]
    }
   ],
   "source": [
    "\n",
    "ques1_enc = Sequential()\n",
    "ques1_enc.add(Embedding(m,EMBED_DIM,\n",
    "        weights=[embedding_matrix],\n",
    "        input_length=seq_maxlen,trainable=False))\n",
    "ques1_enc.add(LSTM(HIDDEN_DIM, return_sequences=True))\n",
    "ques1_enc.add(Dropout(0.3))\n",
    "\n",
    "ques2_enc = Sequential()\n",
    "ques2_enc.add(Embedding(m,EMBED_DIM,\n",
    "        weights=[embedding_matrix],\n",
    "        input_length=seq_maxlen,trainable=False))\n",
    "ques2_enc.add(LSTM(HIDDEN_DIM, return_sequences=True))\n",
    "ques2_enc.add(Dropout(0.3))\n",
    "\n",
    "attn = Sequential()\n",
    "attn.add(Merge([ques1_enc, ques2_enc], mode=\"dot\", dot_axes=[1, 1]))\n",
    "attn.add(Flatten())\n",
    "attn.add(Dense((seq_maxlen * HIDDEN_DIM)))\n",
    "attn.add(Reshape((seq_maxlen, HIDDEN_DIM)))\n",
    "\n",
    "model = Sequential()\n",
    "model.add(Merge([ques1_enc, attn], mode=\"sum\"))\n",
    "model.add(Flatten())\n",
    "model.add(Dense(1, activation=\"sigmoid\"))\n",
    "\n",
    "model.compile(optimizer=\"adam\", loss=\"binary_crossentropy\",\n",
    "              metrics=[\"accuracy\"])\n",
    "early_stopping =EarlyStopping(monitor='val_loss', patience=3)\n",
    "model.summary()\n",
    "\n",
    "\n"
   ]
  },
  {
   "cell_type": "code",
   "execution_count": 29,
   "metadata": {},
   "outputs": [
    {
     "name": "stdout",
     "output_type": "stream",
     "text": [
      "Training...\n",
      "Train on 303216 samples, validate on 101072 samples\n",
      "Epoch 1/10\n",
      "303216/303216 [==============================] - 413s 1ms/step - loss: 0.5659 - acc: 0.7187 - val_loss: 0.4982 - val_acc: 0.7491\n",
      "Epoch 2/10\n",
      "303216/303216 [==============================] - 378s 1ms/step - loss: 0.4776 - acc: 0.7629 - val_loss: 0.4601 - val_acc: 0.7729\n",
      "Epoch 3/10\n",
      "303216/303216 [==============================] - 377s 1ms/step - loss: 0.4458 - acc: 0.7832 - val_loss: 0.4435 - val_acc: 0.7828\n",
      "Epoch 4/10\n",
      "303216/303216 [==============================] - 378s 1ms/step - loss: 0.4230 - acc: 0.7963 - val_loss: 0.4530 - val_acc: 0.7754\n",
      "Epoch 5/10\n",
      "303216/303216 [==============================] - 378s 1ms/step - loss: 0.4032 - acc: 0.8090 - val_loss: 0.4313 - val_acc: 0.7887\n",
      "Epoch 6/10\n",
      "303216/303216 [==============================] - 376s 1ms/step - loss: 0.3872 - acc: 0.8175 - val_loss: 0.4232 - val_acc: 0.7993\n",
      "Epoch 7/10\n",
      "303216/303216 [==============================] - 379s 1ms/step - loss: 0.3706 - acc: 0.8268 - val_loss: 0.4190 - val_acc: 0.8018\n",
      "Epoch 8/10\n",
      "303216/303216 [==============================] - 379s 1ms/step - loss: 0.3575 - acc: 0.8344 - val_loss: 0.4182 - val_acc: 0.8037\n",
      "Epoch 9/10\n",
      "303216/303216 [==============================] - 380s 1ms/step - loss: 0.3445 - acc: 0.8419 - val_loss: 0.4143 - val_acc: 0.8052\n",
      "Epoch 10/10\n",
      "303216/303216 [==============================] - 378s 1ms/step - loss: 0.3326 - acc: 0.8484 - val_loss: 0.4226 - val_acc: 0.8066\n"
     ]
    }
   ],
   "source": [
    "print(\"Training...\")\n",
    "# model.fit([Q1_train, Q2_train], y_train, batch_size=BATCH_SIZE,\n",
    "#           epochs=NBR_EPOCHS, \n",
    "#           validation_split=0.1,\n",
    "#           verbose=1)\n",
    "hist=model.fit([Q1_train, Q2_train], y_train, validation_data=([Q1_val, Q2_val], y_val), verbose=1, \n",
    "          epochs=NBR_EPOCHS, batch_size=BATCH_SIZE, shuffle=True, callbacks=[early_stopping])\n"
   ]
  },
  {
   "cell_type": "code",
   "execution_count": 30,
   "metadata": {},
   "outputs": [
    {
     "name": "stdout",
     "output_type": "stream",
     "text": [
      "101072/101072 [==============================] - 47s 467us/step\n",
      "Test loss/accuracy final model = 0.4226, 0.8066\n"
     ]
    }
   ],
   "source": [
    "loss, acc = model.evaluate([Q1_val, Q2_val], y_val, batch_size=BATCH_SIZE)\n",
    "print(\"Test loss/accuracy final model = %.4f, %.4f\" % (loss, acc))"
   ]
  },
  {
   "cell_type": "code",
   "execution_count": 32,
   "metadata": {},
   "outputs": [],
   "source": [
    "import os\n",
    "model.save_weights(os.path.join(\"data/model\", \"lstm_attention.hdf5\"))\n",
    "with open(os.path.join(\"data/model\", \"lstm_attention.json\"), \"wb\") as fjson:\n",
    "    fjson.write(model.to_json())"
   ]
  },
  {
   "cell_type": "code",
   "execution_count": null,
   "metadata": {},
   "outputs": [],
   "source": []
  }
 ],
 "metadata": {
  "kernelspec": {
   "display_name": "Python 2",
   "language": "python",
   "name": "python2"
  },
  "language_info": {
   "codemirror_mode": {
    "name": "ipython",
    "version": 2
   },
   "file_extension": ".py",
   "mimetype": "text/x-python",
   "name": "python",
   "nbconvert_exporter": "python",
   "pygments_lexer": "ipython2",
   "version": "2.7.14"
  }
 },
 "nbformat": 4,
 "nbformat_minor": 2
}
