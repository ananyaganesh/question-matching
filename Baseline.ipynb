{
 "cells": [
  {
   "cell_type": "code",
   "execution_count": 1,
   "metadata": {},
   "outputs": [],
   "source": [
    "import numpy as np\n",
    "import pandas as pd\n",
    "\n",
    "import torch\n",
    "import torch.nn as nn\n",
    "import torch.nn.functional as F\n",
    "from torch.autograd import Variable"
   ]
  },
  {
   "cell_type": "markdown",
   "metadata": {},
   "source": [
    "# Load Data"
   ]
  },
  {
   "cell_type": "code",
   "execution_count": 2,
   "metadata": {},
   "outputs": [],
   "source": [
    "q1_data = np.load(open('data/processed/q1_processed.npy', 'rb'))\n",
    "q2_data = np.load(open('data/processed/q2_processed.npy', 'rb'))\n",
    "\n",
    "labels = np.load(open('data/processed/label_processed.npy', 'rb'))\n",
    "embedding_matrix = np.load(open('data/processed/glove_word_embedding_matrix.npy', 'rb'))"
   ]
  },
  {
   "cell_type": "code",
   "execution_count": 3,
   "metadata": {},
   "outputs": [
    {
     "data": {
      "text/plain": [
       "array([[17539., 21241., 73406., ...,     0.,     0.,     0.],\n",
       "       [17539., 21241., 73406., ...,     0.,     0.,     0.],\n",
       "       [41908., 10816., 12340., ...,     0.,     0.,     0.],\n",
       "       ...,\n",
       "       [17539., 21241., 56848., ...,     0.,     0.,     0.],\n",
       "       [17539., 21241., 73406., ...,     0.,     0.,     0.],\n",
       "       [17539., 21241., 10078., ...,     0.,     0.,     0.]])"
      ]
     },
     "execution_count": 3,
     "metadata": {},
     "output_type": "execute_result"
    }
   ],
   "source": [
    "q1_data"
   ]
  },
  {
   "cell_type": "code",
   "execution_count": null,
   "metadata": {},
   "outputs": [],
   "source": []
  }
 ],
 "metadata": {
  "kernelspec": {
   "display_name": "Python 2",
   "language": "python",
   "name": "python2"
  },
  "language_info": {
   "codemirror_mode": {
    "name": "ipython",
    "version": 2
   },
   "file_extension": ".py",
   "mimetype": "text/x-python",
   "name": "python",
   "nbconvert_exporter": "python",
   "pygments_lexer": "ipython2",
   "version": "2.7.14"
  }
 },
 "nbformat": 4,
 "nbformat_minor": 2
}
