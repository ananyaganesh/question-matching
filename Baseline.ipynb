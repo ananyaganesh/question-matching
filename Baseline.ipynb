{
 "cells": [
  {
   "cell_type": "code",
   "execution_count": 1,
   "metadata": {},
   "outputs": [],
   "source": [
    "import numpy as np\n",
    "import pandas as pd\n",
    "\n",
    "import torch\n",
    "import torch.nn as nn\n",
    "import torch.nn.functional as F\n",
    "from torch.autograd import Variable"
   ]
  },
  {
   "cell_type": "markdown",
   "metadata": {},
   "source": [
    "# Load Data"
   ]
  },
  {
   "cell_type": "code",
   "execution_count": 2,
   "metadata": {},
   "outputs": [],
   "source": [
    "q1_data = np.load(open('data/processed/q1_processed.npy', 'rb'))\n",
    "q2_data = np.load(open('data/processed/q2_processed.npy', 'rb'))\n",
    "\n",
    "labels = np.load(open('data/processed/label_processed.npy', 'rb'))\n",
    "embedding_matrix = np.load(open('data/processed/glove_word_embedding_matrix.npy', 'rb'))"
   ]
  },
  {
   "cell_type": "code",
   "execution_count": 12,
   "metadata": {},
   "outputs": [
    {
     "name": "stdout",
     "output_type": "stream",
     "text": [
      "Q1_train shape (283001, 30)\n",
      "Q2_train shape (283001, 30)\n",
      "y_train shape (283001,)\n",
      "Q1_val shape (60644, 30)\n",
      "Q2_val shape (60644, 30)\n",
      "y_val shape (60644,)\n",
      "Q1_test shape (60643, 30)\n",
      "Q2_test shape (60643, 30)\n",
      "y_test shape (60643,)\n"
     ]
    }
   ],
   "source": [
    "from sklearn.model_selection import train_test_split\n",
    "\n",
    "X = np.stack((q1_data, q2_data), axis=1)\n",
    "target = labels\n",
    "\n",
    "X_train, X_val, y_train, y_val = train_test_split(X, target, test_size=0.3, random_state=126, stratify=target)\n",
    "\n",
    "Q1_train = X_train[:,0]\n",
    "Q2_train = X_train[:,1]\n",
    "Q1_val = X_val[:,0]\n",
    "Q2_val = X_val[:,1]\n",
    "\n",
    "Q1_test = Q1_val[:(len(Q1_val)/2)]\n",
    "Q2_test = Q2_val[:(len(Q2_val)/2)]\n",
    "Q1_val = Q1_val[(len(Q1_val)/2):]\n",
    "Q2_val = Q2_val[(len(Q2_val)/2):]\n",
    "\n",
    "y_test = y_val[:(len(y_val)/2)]\n",
    "y_val = y_val[(len(y_val)/2):]\n",
    "\n",
    "\n",
    "print 'Q1_train shape {}'.format(Q1_train.shape)\n",
    "print 'Q2_train shape {}'.format(Q1_train.shape)\n",
    "print 'y_train shape {}'.format(y_train.shape)\n",
    "\n",
    "print 'Q1_val shape {}'.format(Q1_val.shape)\n",
    "print 'Q2_val shape {}'.format(Q2_val.shape)\n",
    "print 'y_val shape {}'.format(y_val.shape)\n",
    "\n",
    "print 'Q1_test shape {}'.format(Q1_test.shape)\n",
    "print 'Q2_test shape {}'.format(Q2_test.shape)\n",
    "print 'y_test shape {}'.format(y_test.shape)"
   ]
  },
  {
   "cell_type": "code",
   "execution_count": 7,
   "metadata": {},
   "outputs": [
    {
     "data": {
      "text/plain": [
       "array([[ 73190.,  46844., 110501., ...,      0.,      0.,      0.],\n",
       "       [ 41908.,  10816.,  31608., ...,      0.,      0.,      0.],\n",
       "       [ 96946.,  21241.,  73406., ...,      0.,      0.,      0.],\n",
       "       ...,\n",
       "       [ 21241.,  21244.,    195., ...,      0.,      0.,      0.],\n",
       "       [ 17539.,  21241.,  73406., ...,      0.,      0.,      0.],\n",
       "       [ 17539.,  21241.,  73406., ...,      0.,      0.,      0.]])"
      ]
     },
     "execution_count": 7,
     "metadata": {},
     "output_type": "execute_result"
    }
   ],
   "source": [
    "Q1_train"
   ]
  },
  {
   "cell_type": "code",
   "execution_count": null,
   "metadata": {},
   "outputs": [],
   "source": []
  }
 ],
 "metadata": {
  "kernelspec": {
   "display_name": "Python 2",
   "language": "python",
   "name": "python2"
  },
  "language_info": {
   "codemirror_mode": {
    "name": "ipython",
    "version": 2
   },
   "file_extension": ".py",
   "mimetype": "text/x-python",
   "name": "python",
   "nbconvert_exporter": "python",
   "pygments_lexer": "ipython2",
   "version": "2.7.14"
  }
 },
 "nbformat": 4,
 "nbformat_minor": 2
}
